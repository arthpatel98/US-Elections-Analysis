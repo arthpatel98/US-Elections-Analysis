{
 "cells": [
  {
   "cell_type": "markdown",
   "metadata": {},
   "source": [
    "\n",
    "# Created By Arthkumar Patel\n"
   ]
  },
  {
   "cell_type": "code",
   "execution_count": 1,
   "metadata": {},
   "outputs": [],
   "source": [
    "# Import necessory modules for the code\n",
    "from pyspark.sql import functions as F\n",
    "from pyspark.sql import SparkSession\n",
    "spark = SparkSession.builder.appName(\"Assignemnt2\").getOrCreate()"
   ]
  },
  {
   "cell_type": "code",
   "execution_count": 2,
   "metadata": {},
   "outputs": [],
   "source": [
    "# Load Sampledata's csv file. Made some changes so that it can work for both sample data and whole dataset.\n",
    "# Also removed duplicate data entries.\n",
    "campaign_data = spark.read.csv(\"/Users/whitney/Courses/649/Spring21/website/assignments/Sampledata.csv\",header=True,inferSchema=True).distinct()\n",
    "campaign_data = campaign_data.withColumn('contbr_zip', campaign_data['contbr_zip'].cast('integer') ).withColumn('contb_receipt_amt',campaign_data['contb_receipt_amt'].cast('double'))"
   ]
  },
  {
   "cell_type": "markdown",
   "metadata": {},
   "source": [
    "## Below function includes answers for Question 1-5 "
   ]
  },
  {
   "cell_type": "code",
   "execution_count": 5,
   "metadata": {},
   "outputs": [],
   "source": [
    "def fun_Q1to5():\n",
    "    candidate_total_donations = campaign_data.groupby('cand_nm').count().withColumnRenamed('cand_nm','Candidate Name').withColumnRenamed('count','No. of Donations')\n",
    "    print('\\033[1m'+'Answer For Question 1 :'+'\\033[0m')\n",
    "    print('\\033[1m'+'No. of the Donations Each Candidate Received.'+'\\033[0m')\n",
    "    print('')\n",
    "    candidate_total_donations.show(35)\n",
    "    print('---------------------------------------------------------------------------------------------------------------------')\n",
    "    \n",
    "    candidate_donation_amount = campaign_data.groupby('cand_nm').sum('contb_receipt_amt').withColumnRenamed('cand_nm','Candidate Name').withColumnRenamed('sum(contb_receipt_amt)','Total Donation Received ($)')\n",
    "    print('')\n",
    "    print('\\033[1m'+'Answer For Question 2 :'+'\\033[0m')\n",
    "    print('\\033[1m'+'Total Amount of Donation Each Candidate Received.'+'\\033[0m')\n",
    "    print('')\n",
    "    candidate_donation_amount.show(35)\n",
    "    print('---------------------------------------------------------------------------------------------------------------------')\n",
    "    \n",
    "    # Removing Duplicate Candidate Entries from datasetm based on 6 columns mentioned below.\n",
    "    unique_contributors = campaign_data.dropDuplicates(('contbr_nm','contbr_city','contbr_st','contbr_zip','contbr_employer','contbr_occupation'))\n",
    "    unique_contributors_grouped = unique_contributors.groupby('cand_nm').count().withColumnRenamed('cand_nm','Candidate Name').withColumnRenamed('count','No. of Unique Contributors')\n",
    "    print('')\n",
    "    print('\\033[1m'+'Answer For Question 3 :'+'\\033[0m')\n",
    "    print('\\033[1m'+'No. of the Unique Contributors Each Candidate Have.'+'\\033[0m')\n",
    "    print('')\n",
    "    unique_contributors_grouped.show(35)\n",
    "    print('---------------------------------------------------------------------------------------------------------------------')\n",
    "    \n",
    "    # Filtered out negative values as they can have corresponding positive transactions in whole dataset. Also Negative values affect overall result of Standard Deviation.  \n",
    "    filtered_campaign_data = campaign_data[campaign_data['contb_receipt_amt']>0]\n",
    "    mean_std_donations = filtered_campaign_data.groupby('cand_nm').agg(F.avg('contb_receipt_amt'),F.stddev_pop('contb_receipt_amt')).withColumnRenamed('cand_nm','Candidate Name').withColumnRenamed('avg(contb_receipt_amt)','Mean of Donation Received ($)').withColumnRenamed('stddev_pop(contb_receipt_amt)','STDEV of Donation Received ($)')\n",
    "    print('')\n",
    "    print('\\033[1m'+'Answer For Question 4 :'+'\\033[0m')\n",
    "    print('\\033[1m'+'Mean & Standard Deviation of the Donations For Each Candidate.'+'\\033[0m')\n",
    "    print('')\n",
    "    mean_std_donations.show(35)\n",
    "    print('---------------------------------------------------------------------------------------------------------------------')\n",
    "    \n",
    "    campaign_data_abs = campaign_data.withColumn('contb_receipt_amt',F.abs(campaign_data['contb_receipt_amt']))\n",
    "    small_contributors = campaign_data_abs.where(F.col('contb_receipt_amt')<50).groupby('cand_nm').count()\n",
    "    # this is total no. of donations for each candidate.\n",
    "    total_donations = campaign_data.groupby('cand_nm').count().withColumnRenamed('count','oldcount').withColumnRenamed('cand_nm','Name')\n",
    "    \n",
    "    # Performed inner join.\n",
    "    joined_dataset = small_contributors.join(total_donations, small_contributors.cand_nm == total_donations.Name, 'inner')\n",
    "    joined_dataset_percentage = joined_dataset.withColumn('Percentage of Donations by Small Contributors',F.col('count')*100/F.col('oldcount'))\n",
    "    \n",
    "    small_contributors_percentage = joined_dataset_percentage.select('Name','Percentage of Donations by Small Contributors')\n",
    "    print('')\n",
    "    print('\\033[1m'+'Answer For Question 5 :'+'\\033[0m')\n",
    "    print('\\033[1m'+'Percentage of Each Campaign’s Donations Done by Small Contributors, That is Donations Under $50.'+'\\033[0m')\n",
    "    print('')\n",
    "    small_contributors_percentage.show(35)"
   ]
  },
  {
   "cell_type": "code",
   "execution_count": 6,
   "metadata": {},
   "outputs": [
    {
     "name": "stdout",
     "output_type": "stream",
     "text": [
      "\u001b[1mAnswer For Question 1 :\u001b[0m\n",
      "\u001b[1mNo. of the Donations Each Candidate Received.\u001b[0m\n",
      "\n",
      "+--------------------+----------------+\n",
      "|      Candidate Name|No. of Donations|\n",
      "+--------------------+----------------+\n",
      "|    Ryan, Timothy J.|              16|\n",
      "|Sestak, Joseph A....|               3|\n",
      "|  Biden, Joseph R Jr|           34608|\n",
      "|         Steyer, Tom|              28|\n",
      "|      Bullock, Steve|              93|\n",
      "|     Booker, Cory A.|             445|\n",
      "|Weld, William Flo...|              27|\n",
      "|Swalwell, Eric Mi...|               6|\n",
      "|    Sanders, Bernard|           13887|\n",
      "|Hickenlooper, Joh...|              16|\n",
      "|    Charles, Mark R.|               1|\n",
      "|       Moulton, Seth|              14|\n",
      "|  Warren, Elizabeth |            4481|\n",
      "|    Delaney, John K.|              17|\n",
      "|Gillibrand, Kirsten |              46|\n",
      "|   Klobuchar, Amy J.|            1029|\n",
      "|Gravel, Maurice R...|               1|\n",
      "|O’Rourke, Robert ...|             541|\n",
      "|Bloomberg, Michae...|               2|\n",
      "|       Jorgensen, Jo|              32|\n",
      "|       Inslee, Jay R|              70|\n",
      "|        Yang, Andrew|            1990|\n",
      "|      Gabbard, Tulsi|             486|\n",
      "|   Harris, Kamala D.|            1014|\n",
      "|      Castro, Julián|             191|\n",
      "|     Buttigieg, Pete|            3356|\n",
      "|          Walsh, Joe|               8|\n",
      "|      Patrick, Deval|              16|\n",
      "|         West, Kanye|              11|\n",
      "|Williamson, Maria...|             245|\n",
      "|    Trump, Donald J.|           37164|\n",
      "|   Sanford, Marshall|               2|\n",
      "|     de Blasio, Bill|               3|\n",
      "|  Bennet, Michael F.|             141|\n",
      "|      Hawkins, Howie|               9|\n",
      "+--------------------+----------------+\n",
      "\n",
      "---------------------------------------------------------------------------------------------------------------------\n",
      "\n",
      "\u001b[1mAnswer For Question 2 :\u001b[0m\n",
      "\u001b[1mTotal Amount of Donation Each Candidate Received.\u001b[0m\n",
      "\n",
      "+--------------------+---------------------------+\n",
      "|      Candidate Name|Total Donation Received ($)|\n",
      "+--------------------+---------------------------+\n",
      "|    Ryan, Timothy J.|                    4146.85|\n",
      "|Sestak, Joseph A....|                      880.0|\n",
      "|  Biden, Joseph R Jr|         3714637.3699999996|\n",
      "|         Steyer, Tom|                    16464.0|\n",
      "|      Bullock, Steve|                    20544.0|\n",
      "|     Booker, Cory A.|                   78265.11|\n",
      "|Weld, William Flo...|                     6545.2|\n",
      "|Swalwell, Eric Mi...|         3460.4300000000003|\n",
      "|    Sanders, Bernard|         452818.75999999983|\n",
      "|Hickenlooper, Joh...|                     9811.7|\n",
      "|    Charles, Mark R.|                      250.0|\n",
      "|       Moulton, Seth|                    10110.0|\n",
      "|  Warren, Elizabeth |         262841.82000000007|\n",
      "|    Delaney, John K.|                    10095.4|\n",
      "|Gillibrand, Kirsten |                    27377.0|\n",
      "|   Klobuchar, Amy J.|                  132880.82|\n",
      "|Gravel, Maurice R...|                      250.0|\n",
      "|O’Rourke, Robert ...|          45663.83999999998|\n",
      "|Bloomberg, Michae...|                     188.84|\n",
      "|       Jorgensen, Jo|         3888.9500000000003|\n",
      "|       Inslee, Jay R|                    6774.21|\n",
      "|        Yang, Andrew|         120302.38999999996|\n",
      "|      Gabbard, Tulsi|                   31860.39|\n",
      "|   Harris, Kamala D.|         136023.27000000002|\n",
      "|      Castro, Julián|                   14825.73|\n",
      "|     Buttigieg, Pete|         308647.81000000006|\n",
      "|          Walsh, Joe|                      265.0|\n",
      "|      Patrick, Deval|                    14865.9|\n",
      "|         West, Kanye|                     1960.0|\n",
      "|Williamson, Maria...|         19037.180000000004|\n",
      "|    Trump, Donald J.|                 2776724.17|\n",
      "|   Sanford, Marshall|                     1250.0|\n",
      "|     de Blasio, Bill|                     3900.0|\n",
      "|  Bennet, Michael F.|         16187.880000000001|\n",
      "|      Hawkins, Howie|                     383.27|\n",
      "+--------------------+---------------------------+\n",
      "\n",
      "---------------------------------------------------------------------------------------------------------------------\n",
      "\n",
      "\u001b[1mAnswer For Question 3 :\u001b[0m\n",
      "\u001b[1mNo. of the Unique Contributors Each Candidate Have.\u001b[0m\n",
      "\n",
      "+--------------------+--------------------------+\n",
      "|      Candidate Name|No. of Unique Contributors|\n",
      "+--------------------+--------------------------+\n",
      "|    Ryan, Timothy J.|                        16|\n",
      "|Sestak, Joseph A....|                         3|\n",
      "|  Biden, Joseph R Jr|                     33046|\n",
      "|         Steyer, Tom|                        28|\n",
      "|      Bullock, Steve|                        87|\n",
      "|     Booker, Cory A.|                       418|\n",
      "|Weld, William Flo...|                        27|\n",
      "|Swalwell, Eric Mi...|                         6|\n",
      "|    Sanders, Bernard|                     12855|\n",
      "|Hickenlooper, Joh...|                        15|\n",
      "|    Charles, Mark R.|                         1|\n",
      "|       Moulton, Seth|                        14|\n",
      "|  Warren, Elizabeth |                      4285|\n",
      "|    Delaney, John K.|                        17|\n",
      "|Gillibrand, Kirsten |                        44|\n",
      "|   Klobuchar, Amy J.|                       983|\n",
      "|Gravel, Maurice R...|                         1|\n",
      "|O’Rourke, Robert ...|                       503|\n",
      "|Bloomberg, Michae...|                         2|\n",
      "|       Jorgensen, Jo|                        32|\n",
      "|       Inslee, Jay R|                        68|\n",
      "|        Yang, Andrew|                      1887|\n",
      "|      Gabbard, Tulsi|                       464|\n",
      "|   Harris, Kamala D.|                       953|\n",
      "|      Castro, Julián|                       180|\n",
      "|     Buttigieg, Pete|                      3089|\n",
      "|          Walsh, Joe|                         8|\n",
      "|      Patrick, Deval|                        16|\n",
      "|         West, Kanye|                        11|\n",
      "|Williamson, Maria...|                       239|\n",
      "|    Trump, Donald J.|                     35468|\n",
      "|   Sanford, Marshall|                         2|\n",
      "|     de Blasio, Bill|                         3|\n",
      "|  Bennet, Michael F.|                       133|\n",
      "|      Hawkins, Howie|                         9|\n",
      "+--------------------+--------------------------+\n",
      "\n",
      "---------------------------------------------------------------------------------------------------------------------\n",
      "\n",
      "\u001b[1mAnswer For Question 4 :\u001b[0m\n",
      "\u001b[1mMean & Standard Deviation of the Donations For Each Candidate.\u001b[0m\n",
      "\n",
      "+--------------------+-----------------------------+------------------------------+\n",
      "|      Candidate Name|Mean of Donation Received ($)|STDEV of Donation Received ($)|\n",
      "+--------------------+-----------------------------+------------------------------+\n",
      "|    Ryan, Timothy J.|                   259.178125|             320.6011067943066|\n",
      "|Sestak, Joseph A....|                        502.5|                         497.5|\n",
      "|  Biden, Joseph R Jr|           112.11140496108665|            314.88360950346146|\n",
      "|         Steyer, Tom|             713.925925925926|            1355.5597702828627|\n",
      "|      Bullock, Steve|            253.7391304347826|             568.0014136074958|\n",
      "|     Booker, Cory A.|           202.15116972477063|            499.05662629950956|\n",
      "|Weld, William Flo...|            242.4148148148148|             408.5443714998715|\n",
      "|Swalwell, Eric Mi...|            576.7383333333333|             1008.434360290192|\n",
      "|    Sanders, Bernard|            34.35656807307523|             106.8484663632681|\n",
      "|Hickenlooper, Joh...|                    613.23125|            1015.2652230259527|\n",
      "|    Charles, Mark R.|                        250.0|                           0.0|\n",
      "|       Moulton, Seth|            722.1428571428571|             876.0396156357687|\n",
      "|  Warren, Elizabeth |            59.86368397392675|            152.42663630137426|\n",
      "|    Delaney, John K.|                     643.4625|             875.9668678630202|\n",
      "|Gillibrand, Kirsten |            595.1521739130435|             870.8453905455344|\n",
      "|   Klobuchar, Amy J.|            150.3994291338583|             375.8762179907795|\n",
      "|Gravel, Maurice R...|                        250.0|                           0.0|\n",
      "|O’Rourke, Robert ...|            94.55223264540334|             301.1485790681282|\n",
      "|Bloomberg, Michae...|                        94.42|            41.209999999999994|\n",
      "|       Jorgensen, Jo|           121.52968750000001|            145.31971264861951|\n",
      "|       Inslee, Jay R|           142.26779411764707|            262.01636494605805|\n",
      "|        Yang, Andrew|            64.73953900709216|            195.22461615489723|\n",
      "|      Gabbard, Tulsi|            72.54054507337526|            218.72667506316935|\n",
      "|   Harris, Kamala D.|           142.69557442557445|             451.7318974107944|\n",
      "|      Castro, Julián|            79.88746031746031|             306.3455672063645|\n",
      "|     Buttigieg, Pete|            96.83124135858134|             340.8866849259084|\n",
      "|          Walsh, Joe|                       33.125|             28.60698122836452|\n",
      "|      Patrick, Deval|            993.3333333333334|             999.3108736635572|\n",
      "|         West, Kanye|                        218.0|              59.6322060635023|\n",
      "|Williamson, Maria...|            89.08680327868854|             274.0231097612455|\n",
      "|    Trump, Donald J.|             91.8339441634406|             263.6504776623737|\n",
      "|   Sanford, Marshall|                        625.0|                         375.0|\n",
      "|     de Blasio, Bill|                       1300.0|            1122.4972160321825|\n",
      "|  Bennet, Michael F.|           137.32287769784173|             425.0872449481614|\n",
      "|      Hawkins, Howie|                     51.03375|             36.74714000350912|\n",
      "+--------------------+-----------------------------+------------------------------+\n",
      "\n",
      "---------------------------------------------------------------------------------------------------------------------\n",
      "\n",
      "\u001b[1mAnswer For Question 5 :\u001b[0m\n",
      "\u001b[1mPercentage of Each Campaign’s Donations Done by Small Contributors, That is Donations Under $50.\u001b[0m\n",
      "\n"
     ]
    },
    {
     "name": "stdout",
     "output_type": "stream",
     "text": [
      "+--------------------+---------------------------------------------+\n",
      "|                Name|Percentage of Donations by Small Contributors|\n",
      "+--------------------+---------------------------------------------+\n",
      "|    Ryan, Timothy J.|                                         37.5|\n",
      "|Sestak, Joseph A....|                           33.333333333333336|\n",
      "|  Biden, Joseph R Jr|                            58.32755432269995|\n",
      "|         Steyer, Tom|                                         25.0|\n",
      "|      Bullock, Steve|                           41.935483870967744|\n",
      "|     Booker, Cory A.|                           54.831460674157306|\n",
      "|Weld, William Flo...|                           33.333333333333336|\n",
      "|Swalwell, Eric Mi...|                           33.333333333333336|\n",
      "|    Sanders, Bernard|                            82.14877223302369|\n",
      "|Hickenlooper, Joh...|                                         37.5|\n",
      "|       Moulton, Seth|                            7.142857142857143|\n",
      "|  Warren, Elizabeth |                            64.13746931488507|\n",
      "|    Delaney, John K.|                           35.294117647058826|\n",
      "|Gillibrand, Kirsten |                            26.08695652173913|\n",
      "|   Klobuchar, Amy J.|                           47.521865889212826|\n",
      "|O’Rourke, Robert ...|                            57.11645101663586|\n",
      "|       Jorgensen, Jo|                                       34.375|\n",
      "|       Inslee, Jay R|                            48.57142857142857|\n",
      "|        Yang, Andrew|                            65.07537688442211|\n",
      "|      Gabbard, Tulsi|                             67.6954732510288|\n",
      "|   Harris, Kamala D.|                            64.69428007889546|\n",
      "|      Castro, Julián|                            79.05759162303664|\n",
      "|     Buttigieg, Pete|                             69.9046483909416|\n",
      "|          Walsh, Joe|                                         75.0|\n",
      "|      Patrick, Deval|                                         6.25|\n",
      "|Williamson, Maria...|                            62.04081632653061|\n",
      "|    Trump, Donald J.|                           63.879022710149606|\n",
      "|  Bennet, Michael F.|                           60.283687943262414|\n",
      "|      Hawkins, Howie|                            55.55555555555556|\n",
      "+--------------------+---------------------------------------------+\n",
      "\n"
     ]
    }
   ],
   "source": [
    "# Function call for answers of Question 1-5.\n",
    "fun_Q1to5()"
   ]
  },
  {
   "cell_type": "markdown",
   "metadata": {},
   "source": [
    "# AWS CLI Export For Question 1-5\n",
    "\n",
    "aws emr create-cluster --applications Name=Spark Name=Zeppelin --ec2-attributes '{\"InstanceProfile\":\"EMR_EC2_DefaultRole\",\"SubnetId\":\"subnet-ad729ad0\",\"EmrManagedSlaveSecurityGroup\":\"sg-0f503418a56b719de\",\"EmrManagedMasterSecurityGroup\":\"sg-004636ad1ed2bb980\"}' --service-role EMR_DefaultRole --enable-debugging --release-label emr-6.2.0 --log-uri 's3n://aws-logs-491435952613-us-east-2/elasticmapreduce/' --steps '[{\"Args\":[\"spark-submit\",\"--deploy-mode\",\"client\",\"s3://py-files-new/Assignment2_new.py\",\"-i\",\"s3://arth-patel-dataset/P00000001-ALL.csv\"],\"Type\":\"CUSTOM_JAR\",\"ActionOnFailure\":\"CONTINUE\",\"Jar\":\"command-runner.jar\",\"Properties\":\"\",\"Name\":\"Spark application New\"}]' --name 'My cluster' --instance-groups '[{\"InstanceCount\":1,\"EbsConfiguration\":{\"EbsBlockDeviceConfigs\":[{\"VolumeSpecification\":{\"SizeInGB\":32,\"VolumeType\":\"gp2\"},\"VolumesPerInstance\":2}]},\"InstanceGroupType\":\"MASTER\",\"InstanceType\":\"m5.xlarge\",\"Name\":\"Master Instance Group\"},{\"InstanceCount\":2,\"EbsConfiguration\":{\"EbsBlockDeviceConfigs\":[{\"VolumeSpecification\":{\"SizeInGB\":32,\"VolumeType\":\"gp2\"},\"VolumesPerInstance\":2}]},\"InstanceGroupType\":\"CORE\",\"InstanceType\":\"m5.xlarge\",\"Name\":\"Core Instance Group\"}]' --configurations '[{\"Classification\":\"spark\",\"Properties\":{}}]' --scale-down-behavior TERMINATE_AT_TASK_COMPLETION --region us-east-2"
   ]
  },
  {
   "cell_type": "code",
   "execution_count": null,
   "metadata": {},
   "outputs": [],
   "source": []
  },
  {
   "cell_type": "markdown",
   "metadata": {},
   "source": [
    "## I have used this syntax to run the code for Question 1-5 in Spark-Shell locally. "
   ]
  },
  {
   "cell_type": "code",
   "execution_count": 5,
   "metadata": {},
   "outputs": [],
   "source": [
    "# def files_from_args():\n",
    "#     import argparse\n",
    "#     parser = argparse.ArgumentParser()\n",
    "#     parser.add_argument('-i', '--input', default='input')\n",
    "#     parser.add_argument('-o', '--output',default='output')\n",
    "#     args = parser.parse_args()\n",
    "#     return (args.input, args.output)\n",
    "\n",
    "# if __name__ == \"__main__\":\n",
    "#     inputfile, outputfile = files_from_args()\n",
    "#     fun_Q1to5(inputfile, outputfile)\n",
    "    \n",
    "# -i \"input_file_path\" -o \"output_file_path\""
   ]
  },
  {
   "cell_type": "markdown",
   "metadata": {},
   "source": [
    "## I have used this function to run the code for Question 6 in Spark-Shell locally."
   ]
  },
  {
   "cell_type": "code",
   "execution_count": 6,
   "metadata": {},
   "outputs": [],
   "source": [
    "# def fun_Q6(input,output):\n",
    "#     campaign_data = spark.read.csv(input,header=True,inferSchema=True).distinct()\n",
    "#     campaign_data = campaign_data.withColumn('contbr_zip', campaign_data['contbr_zip'].cast('integer') ).withColumn('contb_receipt_amt',campaign_data['contb_receipt_amt'].cast('double'))\n",
    "#     hist_filtered_data = campaign_data.filter((campaign_data.cand_nm=='Biden, Joseph R Jr') | (campaign_data.cand_nm=='Trump, Donald J.'))\n",
    "#     hist_total_data = hist_filtered_data[hist_filtered_data['contb_receipt_amt']>0]\n",
    "#     final_hist_data = hist_total_data.select('cand_nm','contb_receipt_amt')\n",
    "#     final_hist_data.write.format('csv').save(output)\n",
    "\n",
    "# def files_from_args():\n",
    "#     import argparse\n",
    "#     parser = argparse.ArgumentParser()\n",
    "#     parser.add_argument('-i', '--input', default='input')\n",
    "#     parser.add_argument('-o', '--output',default='output')\n",
    "#     args = parser.parse_args()\n",
    "#     return (args.input, args.output)\n",
    "\n",
    "# if __name__ == \"__main__\":\n",
    "#     inputfile, outputfile = files_from_args()\n",
    "#     fun_Q6(inputfile, outputfile)"
   ]
  },
  {
   "cell_type": "code",
   "execution_count": 7,
   "metadata": {},
   "outputs": [],
   "source": [
    "# Importing necessary modules required for Question 6.\n",
    "import pandas as pd\n",
    "import glob\n",
    "import numpy as np\n",
    "import matplotlib.pyplot as plt\n",
    "import matplotlib.ticker as tt"
   ]
  },
  {
   "cell_type": "code",
   "execution_count": 11,
   "metadata": {},
   "outputs": [],
   "source": [
    "# Read all csv files generated by AWS.\n",
    "path = r'AWS_Files/'  # change the path to read output files.\n",
    "all_files = glob.glob(path + \"/*.csv\")\n",
    "li = []\n",
    "\n",
    "for filename in all_files:\n",
    "    df = pd.read_csv(filename,header=None)\n",
    "    li.append(df)\n",
    "    \n",
    "hist_data = pd.concat(li, axis=0).rename(columns={0: \"Candidate Name\", 1: \"Donation Amount\"})"
   ]
  },
  {
   "cell_type": "code",
   "execution_count": 12,
   "metadata": {},
   "outputs": [],
   "source": [
    "# Filter data for Trump and Biden.\n",
    "trump_hist_data = hist_data[hist_data['Candidate Name']==\"Trump, Donald J.\"]\n",
    "biden_hist_data = hist_data[hist_data['Candidate Name']==\"Biden, Joseph R Jr\"]"
   ]
  },
  {
   "cell_type": "code",
   "execution_count": 13,
   "metadata": {},
   "outputs": [
    {
     "data": {
      "image/png": "[encoded data removed]",
      "text/plain": [
       "<Figure size 1440x936 with 1 Axes>"
      ]
     },
     "metadata": {
      "needs_background": "light"
     },
     "output_type": "display_data"
    }
   ],
   "source": [
    "plt.rcParams[\"figure.figsize\"] = (20,13)\n",
    "# To create histogram I divided the data into bins and then I plotted barplot which eventually turns into Histogram.\n",
    "bins_range_trump = [0,20,40,60,80,100,120,140,160,180,200,250,300,350,400,450,500,600,700,800,900,1000,2000,5000,10000,70000000]\n",
    "trump_hist_data_new = trump_hist_data.groupby(pd.cut(trump_hist_data['Donation Amount'],bins_range_trump)).count()\n",
    "trump_hist_data_new['Range'] = [20,40,60,80,100,120,140,160,180,200,250,300,350,400,450,500,600,700,800,900,1000,2000,5000,10000,70000000]\n",
    "trump_hist_data_new.plot.bar(x='Range',y='Donation Amount')\n",
    "plt.xlabel('Amount of Donation ($)',fontsize=20)\n",
    "plt.ylabel('No. of Donors',fontsize=20)\n",
    "plt.title('Trump Campaign Donation Histogram',fontsize=25)\n",
    "plt.show()\n",
    "# Histogram on xtick shows the donation between that range. Like bar on 20 shows donation for (0,20]."
   ]
  },
  {
   "cell_type": "code",
   "execution_count": 14,
   "metadata": {},
   "outputs": [
    {
     "data": {
      "image/png": "[encoded data removed]",
      "text/plain": [
       "<Figure size 1440x936 with 1 Axes>"
      ]
     },
     "metadata": {
      "needs_background": "light"
     },
     "output_type": "display_data"
    }
   ],
   "source": [
    "# To create histogram I divided the data into bins and then I plotted barplot which eventually turns into Histogram.\n",
    "bins_range_biden = [0,20,40,60,80,100,120,140,160,180,200,250,300,350,400,450,500,600,700,800,900,1000,2000,5000,10000,20000000]\n",
    "biden_hist_data_new = biden_hist_data.groupby(pd.cut(biden_hist_data['Donation Amount'],bins_range_biden)).count()\n",
    "biden_hist_data_new['Range'] = [20,40,60,80,100,120,140,160,180,200,250,300,350,400,450,500,600,700,800,900,1000,2000,5000,10000,20000000]\n",
    "biden_hist_data_new.plot.bar(x='Range',y='Donation Amount')\n",
    "plt.xlabel('Amount of Donation ($)',fontsize=20)\n",
    "plt.ylabel('No. of Donors',fontsize=20)\n",
    "plt.title('Biden Campaign Donation Histogram',fontsize=25)\n",
    "plt.show()\n",
    "# Histogram on xtick shows the donation between that range. Like bar on 20 shows donation for (0,20]."
   ]
  },
  {
   "cell_type": "markdown",
   "metadata": {},
   "source": [
    "# AWS CLI Export For Question 6\n",
    "\n",
    "aws emr create-cluster --applications Name=Spark Name=Zeppelin --ec2-attributes '{\"InstanceProfile\":\"EMR_EC2_DefaultRole\",\"SubnetId\":\"subnet-9555e7fe\",\"EmrManagedSlaveSecurityGroup\":\"sg-0f503418a56b719de\",\"EmrManagedMasterSecurityGroup\":\"sg-004636ad1ed2bb980\"}' --service-role EMR_DefaultRole --enable-debugging --release-label emr-6.2.0 --log-uri 's3n://aws-logs-491435952613-us-east-2/elasticmapreduce/' --steps '[{\"Args\":[\"spark-submit\",\"--deploy-mode\",\"client\",\"s3://py-files-new/hist_total.py\",\"-i\",\"s3://arth-patel-dataset/P00000001-ALL.csv\"],\"Type\":\"CUSTOM_JAR\",\"ActionOnFailure\":\"CONTINUE\",\"Jar\":\"command-runner.jar\",\"Properties\":\"\",\"Name\":\"Spark application Q6\"},{\"Args\":[\"spark-submit\",\"--deploy-mode\",\"client\",\"s3://py-files-new/hist_total.py\",\"-i\",\"s3://arth-patel-dataset/P00000001-ALL.csv\",\"-o\",\"s3://arth-patel-output\"],\"Type\":\"CUSTOM_JAR\",\"ActionOnFailure\":\"CONTINUE\",\"Jar\":\"command-runner.jar\",\"Properties\":\"\",\"Name\":\"Spark application Q6Up\"}]' --name 'My cluster' --instance-groups '[{\"InstanceCount\":1,\"EbsConfiguration\":{\"EbsBlockDeviceConfigs\":[{\"VolumeSpecification\":{\"SizeInGB\":32,\"VolumeType\":\"gp2\"},\"VolumesPerInstance\":2}]},\"InstanceGroupType\":\"MASTER\",\"InstanceType\":\"m5.xlarge\",\"Name\":\"Master Instance Group\"},{\"InstanceCount\":2,\"EbsConfiguration\":{\"EbsBlockDeviceConfigs\":[{\"VolumeSpecification\":{\"SizeInGB\":32,\"VolumeType\":\"gp2\"},\"VolumesPerInstance\":2}]},\"InstanceGroupType\":\"CORE\",\"InstanceType\":\"m5.xlarge\",\"Name\":\"Core Instance Group\"}]' --configurations '[{\"Classification\":\"spark\",\"Properties\":{}}]' --scale-down-behavior TERMINATE_AT_TASK_COMPLETION --region us-east-2"
   ]
  }
 ],
 "metadata": {
  "kernelspec": {
   "display_name": "Python 3",
   "language": "python",
   "name": "python3"
  },
  "language_info": {
   "codemirror_mode": {
    "name": "ipython",
    "version": 3
   },
   "file_extension": ".py",
   "mimetype": "text/x-python",
   "name": "python",
   "nbconvert_exporter": "python",
   "pygments_lexer": "ipython3",
   "version": "3.8.5"
  }
 },
 "nbformat": 4,
 "nbformat_minor": 4
}
